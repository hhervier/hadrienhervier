{
 "cells": [
  {
   "cell_type": "markdown",
   "metadata": {},
   "source": [
    "# PROJET Numérique : lignes de niveau"
   ]
  },
  {
   "cell_type": "markdown",
   "metadata": {},
   "source": [
    "L'objectif de ce projet est de développer un programme Python permettant de calculer les lignes de niveau d'une fonction f de deux variables réelles et à valeurs réelles (supposée continuement différentiable)."
   ]
  },
  {
   "cell_type": "code",
   "execution_count": 7,
   "metadata": {},
   "outputs": [],
   "source": [
    "#importation de toutes les bibliothèques nécessaires\n",
    "\n",
    "from autograd import numpy as np\n",
    "import autograd\n",
    "import math\n",
    "import matplotlib.pyplot as plt\n",
    "from numpy.linalg import norm"
   ]
  },
  {
   "cell_type": "markdown",
   "metadata": {},
   "source": [
    "Pour obtenir ce résultat nous avons réalisé plusieurs étapes.\n",
    "Premièrement, la réalisation de la fonction find_seed qui doit renvoyer un point dont l'abscisse est 0 et l'ordonnée est entre 0 et 1.\n",
    "Nous avons choisi de réaliser cette fonction à l'aide d'une dichotomie."
   ]
  },
  {
   "cell_type": "code",
   "execution_count": 8,
   "metadata": {},
   "outputs": [],
   "source": [
    "def find_seed(g,c=0,eps=2**(-26)):\n",
    "    a=0\n",
    "    b=1\n",
    "    if (g(a)-c)*(g(b)-c)>0:\n",
    "        return None\n",
    "    while (b-a)>eps:\n",
    "        t=(b+a)/2\n",
    "        if (g(a)-c)*(g(t)-c)<=0:\n",
    "            b=t\n",
    "        else:\n",
    "            a=t\n",
    "    return t"
   ]
  },
  {
   "cell_type": "markdown",
   "metadata": {},
   "source": [
    "Dans un deuxième temps, nous devions réaliser une fonction simple_contour qui renvoie le tracé d'une ligne de niveau de valeur c dans un carré de côté 1 entre les points (0,0), (0,1), (1,0) et (1,1).\n",
    "Pour cela, nous avons choisi d'utiliser une méthode avec l'utilisation du gradient. Le gradient est toujours orthogonal a la ligne de niveau, on prend donc l'orthgonal au gradient (que l'on nommera tang) que l'on choisi orienté vers la droite (condition composante sur x supérieure à 0 de ce vecteur). Puis, on prend un pas de 0,01 le long de ce vecteur ce qui nous donne un nouveau point. \n",
    "Le problème de cette méthode est qu'a chaque point que l'on prend on rajoute une erreur, cette méthode diverge donc."
   ]
  },
  {
   "cell_type": "code",
   "execution_count": 21,
   "metadata": {},
   "outputs": [],
   "source": [
    "def simple_contour1(f,c=0,delta=0.01):\n",
    "    X=[]\n",
    "    Y=[]\n",
    "    x0=0.\n",
    "    h=lambda x:f(x0,x)\n",
    "    if find_seed(h,c)==None:\n",
    "        return X,Y\n",
    "    Y.append(find_seed(h,c))\n",
    "    X.append(0.)\n",
    "    g = autograd.grad\n",
    "    gr=np.r_[g(f, 0)(X[-1],Y[-1]), g(f, 1)(X[-1],Y[-1])]\n",
    "    tang=[-gr[1],gr[0]]\n",
    "    if tang[0]<0:\n",
    "        while X[-1]<1 and 0<Y[-1]<1:\n",
    "            g = autograd.grad\n",
    "            gr=np.array(np.r_[g(f, 0)(X[-1],Y[-1]), g(f, 1)(X[-1],Y[-1])])\n",
    "            gr *= delta/norm(gr)\n",
    "            tang=np.array([gr[1],-gr[0]])\n",
    "            X.append(X[-1] + tang[0])\n",
    "            Y.append(Y[-1] + tang[1])\n",
    "    else:\n",
    "        while X[-1]<1 and 0<Y[-1]<1:\n",
    "            g = autograd.grad\n",
    "            gr=np.array(np.r_[g(f, 0)(X[-1],Y[-1]), g(f, 1)(X[-1],Y[-1])])\n",
    "            gr *= delta/norm(gr)\n",
    "            tang=np.array([-gr[1],gr[0]])\n",
    "            X.append(X[-1] + tang[0])\n",
    "            Y.append(Y[-1] + tang[1])\n",
    "    return [X,Y]"
   ]
  },
  {
   "cell_type": "markdown",
   "metadata": {},
   "source": [
    "Afin de régler ce problème de divergence, nous avons utiliser une dichotomie angulaire sur un cercle de rayon 0,01 à partir du point précédent. De cette façon, on limite l'erreur induite par le décalage entre la courbe réelle et la tangente."
   ]
  },
  {
   "cell_type": "code",
   "execution_count": 10,
   "metadata": {},
   "outputs": [],
   "source": [
    "def simple_contour2(f,c=0,delta=0.01):\n",
    "    X=[]\n",
    "    Y=[]\n",
    "    x0=0.\n",
    "    h=lambda x:f(x0,x)\n",
    "    if find_seed(h,c)==None:\n",
    "        return X,Y\n",
    "    Y.append(find_seed(h,c))\n",
    "    X.append(0.)\n",
    "    g = autograd.grad\n",
    "    gr=np.r_[g(f, 0)(X[-1],Y[-1]), g(f, 1)(X[-1],Y[-1])]\n",
    "    tang=[-gr[1],gr[0]]\n",
    "    if tang[0]<0:\n",
    "        while X[-1]<1 and 0<Y[-1]<1:\n",
    "            g = autograd.grad\n",
    "            gr=np.array(np.r_[g(f, 0)(X[-1],Y[-1]), g(f, 1)(X[-1],Y[-1])])\n",
    "            gr *= delta/norm(gr)\n",
    "            tang=np.array([-gr[1],gr[0]])\n",
    "            coord = lambda angle : np.cos(angle)*gr + np.sin(angle)*tang\n",
    "            a = - np.pi\n",
    "            b = np.pi\n",
    "            eps = 2**(-26)\n",
    "            while(b-a > eps) :\n",
    "                d = (a+b)/2\n",
    "                if (f((X[-1]+coord(a)[0]),Y[-1]+coord(a)[1])-c)*(f((X[-1]+coord(d)[0]),Y[-1]+coord(d)[1])-c)<0:\n",
    "                    b=d\n",
    "                else:\n",
    "                    a=d\n",
    "            X.append(X[-1] + coord(d)[0])\n",
    "            Y.append(Y[-1] + coord(d)[1])\n",
    "    else:\n",
    "        while X[-1]<1 and 0<Y[-1]<1:\n",
    "            g = autograd.grad\n",
    "            gr=np.array(np.r_[g(f, 0)(X[-1],Y[-1]), g(f, 1)(X[-1],Y[-1])])\n",
    "            gr *= delta/norm(gr)\n",
    "            tang=np.array([gr[1],-gr[0]])\n",
    "            tang = tang*0.01/norm(tang)\n",
    "            coord = lambda angle : np.cos(angle)*gr + np.sin(angle)*tang\n",
    "            a = - np.pi\n",
    "            b = np.pi\n",
    "            eps = 2**(-26)\n",
    "            while(b-a > eps) :\n",
    "                d = (a+b)/2\n",
    "                if (f((X[-1]+coord(a)[0]),Y[-1]+coord(a)[1])-c)*(f((X[-1]+coord(d)[0]),Y[-1]+coord(d)[1])-c)<0:\n",
    "                    b=d\n",
    "                else:\n",
    "                    a=d\n",
    "            X.append(X[-1] + coord(d)[0])\n",
    "            Y.append(Y[-1] + coord(d)[1])\n",
    "    return [X,Y]"
   ]
  },
  {
   "cell_type": "code",
   "execution_count": 22,
   "metadata": {},
   "outputs": [
    {
     "data": {
      "image/png": "[encoded data removed]",
      "text/plain": [
       "<Figure size 432x288 with 1 Axes>"
      ]
     },
     "metadata": {
      "needs_background": "light"
     },
     "output_type": "display_data"
    }
   ],
   "source": [
    "L=simple_contour1(h,0.5)\n",
    "M=simple_contour2(h,0.5)\n",
    "plt.plot(L[0],L[1],color='b')\n",
    "plt.plot(M[0],M[1],color='r')\n",
    "plt.show()\n"
   ]
  },
  {
   "cell_type": "raw",
   "metadata": {},
   "source": [
    "On peut voir un léger décalage des courbes de niveaux entre les deux fonctions simpl_contour.\n",
    "Cela est due à la divergence des incertitudes dans simple-contour1.\n",
    "Ainsi, il est nécessaire de garder simple_contour2."
   ]
  },
  {
   "cell_type": "markdown",
   "metadata": {},
   "source": [
    "Afin d'obtenir toutes les courbes de niveaux sur une surface donnée, nous avons utilisé les fonctions qui nous étaient fournies. Les rotations qui nous ramènent dans un carré où notre fonction simple_contour fonctionne. Puis, avec la fonction contour on réalise les courbes de niveaux totales."
   ]
  },
  {
   "cell_type": "code",
   "execution_count": 12,
   "metadata": {},
   "outputs": [],
   "source": [
    "LEFT, UP, RIGHT, DOWN = 0, 1, 2, 3  # clockwise\n",
    "\n",
    "\n",
    "def rotate_direction(direction, n=1):\n",
    "    return (direction + n) % 4\n",
    "\n",
    "\n",
    "def rotate(x, y, n=1):\n",
    "    if n == 0:\n",
    "        return x, y\n",
    "    elif n >= 1:\n",
    "        return rotate(1 - y, x, n - 1)\n",
    "    else:\n",
    "        assert n < 0\n",
    "        return rotate(x, y, n=-3 * n)\n",
    "\n",
    "\n",
    "def rotate_function(f, n=1):\n",
    "    def rotated_function(x, y):\n",
    "        xr, yr = rotate(x, y, -n)\n",
    "        return f(xr, yr)\n",
    "\n",
    "    return rotated_function\n",
    "\n",
    "\n",
    "# Complex Contouring\n",
    "# ------------------------------------------------------------------------------\n",
    "\n",
    "# Customize the simple_contour function used in contour :\n",
    "# simple_contour = smart_simple_contour\n",
    "\n",
    "\n",
    "def contour(f, c, xs=[0.0, 1.0], ys=[0.0, 1.0], delta=0.01):\n",
    "    curves = []\n",
    "    nx, ny = len(xs), len(ys)\n",
    "    for i in range(nx - 1):\n",
    "        for j in range(ny - 1):\n",
    "            xmin, xmax = xs[i], xs[i + 1]\n",
    "            ymin, ymax = ys[j], ys[j + 1]\n",
    "\n",
    "            def f_cell(x, y):\n",
    "                return f(xmin + (xmax - xmin) * x, ymin + (ymax - ymin) * y)\n",
    "\n",
    "            done = set()\n",
    "            for n in [0, 1, 2, 3]:\n",
    "                if n not in done:\n",
    "                    rotated_f_cell = rotate_function(f_cell, n)\n",
    "                    x_curve_r, y_curve_r = simple_contour2(rotated_f_cell, c, delta)\n",
    "                    exit = None\n",
    "                    if len(x_curve_r) >= 1:\n",
    "                        xf, yf = x_curve_r[-1], y_curve_r[-1]\n",
    "                        if xf == 0.0:\n",
    "                            exit = LEFT\n",
    "                        elif xf == 1.0:\n",
    "                            exit = RIGHT\n",
    "                        elif yf == 0.0:\n",
    "                            exit = DOWN\n",
    "                        elif yf == 1.0:\n",
    "                            exit = UP\n",
    "                    if exit is not None:  # a fully successful contour fragment\n",
    "                        exit = rotate_direction(exit, n)\n",
    "                        done.add(exit)\n",
    "\n",
    "                    x_curve, y_curve = [], []\n",
    "                    for x_r, y_r in zip(x_curve_r, y_curve_r):\n",
    "                        x, y = rotate(x_r, y_r, n=-n)\n",
    "                        x_curve.append(x)\n",
    "                        y_curve.append(y)\n",
    "                    x_curve = np.array(x_curve)\n",
    "                    y_curve = np.array(y_curve)\n",
    "                    curves.append(\n",
    "                        (xmin + (xmax - xmin) * x_curve, ymin + (ymax - ymin) * y_curve)\n",
    "                    )\n",
    "    return curves"
   ]
  },
  {
   "cell_type": "markdown",
   "metadata": {},
   "source": [
    "Voici le résultat de notre travail avec la fonction demandée."
   ]
  },
  {
   "cell_type": "code",
   "execution_count": 19,
   "metadata": {},
   "outputs": [
    {
     "data": {
      "image/png": "[encoded data removed]",
      "text/plain": [
       "<Figure size 432x288 with 1 Axes>"
      ]
     },
     "metadata": {
      "needs_background": "light"
     },
     "output_type": "display_data"
    }
   ],
   "source": [
    "def g(x,y):\n",
    "    return np.exp(-x**2-y**2)\n",
    "def h(x,y):\n",
    "    return x**2+y**2\n",
    "\n",
    "def l(x,y):\n",
    "    return np.exp(-(x-1)**2-(y-1)**2)\n",
    "\n",
    "def fonction(x,y):\n",
    "    return 2*(g(x,y)-l(x,y))  \n",
    "\n",
    "niveaux = [-1.5,-1.,-0.5,0.,0.5,1.,1.5]\n",
    "\n",
    "for i in range (len(niveaux)):\n",
    "    level=contour(fonction,niveaux[i],[-2.,-1.,0.,1.,2.,3.],[-1.,0.,1.,2.])\n",
    "    couleurs = ['b','g','r','c','m','k','y']\n",
    "    for x,y in level:\n",
    "        plt.plot(x,y,color = couleurs[i])\n",
    "plt.show()"
   ]
  },
  {
   "cell_type": "code",
   "execution_count": null,
   "metadata": {},
   "outputs": [],
   "source": []
  }
 ],
 "metadata": {
  "kernelspec": {
   "display_name": "Python 3",
   "language": "python",
   "name": "python3"
  },
  "language_info": {
   "codemirror_mode": {
    "name": "ipython",
    "version": 3
   },
   "file_extension": ".py",
   "mimetype": "text/x-python",
   "name": "python",
   "nbconvert_exporter": "python",
   "pygments_lexer": "ipython3",
   "version": "3.7.1"
  }
 },
 "nbformat": 4,
 "nbformat_minor": 2
}
